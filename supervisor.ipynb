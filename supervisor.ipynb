{
 "cells": [
  {
   "cell_type": "code",
   "execution_count": 166,
   "id": "5797a41a",
   "metadata": {},
   "outputs": [],
   "source": [
    "from langgraph.graph import START, END, StateGraph, MessagesState\n",
    "from typing import List\n",
    "import os \n",
    "from IPython.display import Image, display\n",
    "\n",
    "os.environ[\"GOOGLE_API_KEY\"]  = os.getenv(\"GOOGLE_API_KEY\")\n",
    "os.environ[\"OPENAI_API_KEY\"]  = os.getenv(\"OPENAI_API_KEY\")"
   ]
  },
  {
   "cell_type": "code",
   "execution_count": 167,
   "id": "7517bc97",
   "metadata": {},
   "outputs": [],
   "source": [
    "from langchain_google_genai import ChatGoogleGenerativeAI\n",
    "from langchain.chat_models import init_chat_model\n",
    "\n",
    "gemini = ChatGoogleGenerativeAI(\n",
    "    model=\"gemini-2.0-flash\",\n",
    "    temperature=0,\n",
    "    max_tokens=None,\n",
    "    timeout=None,\n",
    "    max_retries=2,\n",
    "    # other params...\n",
    ")\n",
    "\n",
    "llm = init_chat_model(\"openai:gpt-4.1\", temperature=0.0)\n"
   ]
  },
  {
   "cell_type": "code",
   "execution_count": 168,
   "id": "974d3a31",
   "metadata": {},
   "outputs": [],
   "source": [
    "from pydantic import BaseModel, Field\n",
    "from typing import Literal\n",
    "\n",
    "class PlanSchema(BaseModel):\n",
    "    \"\"\"A structured plan describing an individual task.\"\"\"\n",
    "    title: str = Field(..., description=\"A string describing the task\")\n",
    "    completed: Literal[True, False] = Field(..., description=\"Whether the task is completed\")\n",
    "    node: Literal[\"task_agent\"] = Field(..., description=\"The node responsible for the task\")\n",
    "\n",
    "class State(MessagesState):\n",
    "    plans: List[PlanSchema] = Field(default_factory=list)\n",
    "    query:str\n",
    "    "
   ]
  },
  {
   "cell_type": "code",
   "execution_count": 169,
   "id": "6d3b7503",
   "metadata": {},
   "outputs": [],
   "source": [
    "from langchain.tools import tool\n",
    "\n",
    "\n",
    "class PlanList(BaseModel):\n",
    "    plans: List[PlanSchema]\n",
    "\n",
    "@tool\n",
    "def plan_generator(query:str):\n",
    "    \"\"\"generate the plan based on the user query\"\"\"\n",
    "\n",
    "    llm_with_structured_output = llm.with_structured_output(PlanList)\n",
    "    prompt = \"\"\"You are a top-notch planner assistant. Your job is to take any natural language task request and break it down into a well-structured plan.\n",
    "    \"\"\"\n",
    "\n",
    "    result = llm_with_structured_output.invoke([\n",
    "        {\"role\":\"system\",\"content\":prompt },\n",
    "        {\"role\":\"user\", \"content\":query }\n",
    "    ])\n",
    "\n",
    "    print(result,\"result\")\n",
    "\n",
    "    return {\"plans\": result.plans or []}\n"
   ]
  },
  {
   "cell_type": "code",
   "execution_count": 170,
   "id": "310b84cb",
   "metadata": {},
   "outputs": [],
   "source": [
    "\n",
    "tools = [plan_generator]\n",
    "\n",
    "tools_by_name = {tool.name:tool for tool  in tools}\n",
    "llm_with_tools = llm.bind_tools(tools)\n",
    "\n",
    "\n",
    "def supervisor_node(state:State):\n",
    "    \"\"\"supervise all the plans\"\"\"\n",
    "\n",
    "    supervisor_prompt = \"\"\"\n",
    "        You are a high-level executive task supervisor. Your job is to:\n",
    "        - Review the user's query and any previous messages\n",
    "        - Analyze what high-level tasks need to be accomplished\n",
    "        - Generate one or more structured plans to accomplish the task\n",
    "        - Use tools as needed (e.g., plan_generator) to generate those plans\n",
    "\n",
    "        Only generate plans that are necessary, clear, and well-scoped.\n",
    "\n",
    "        \"\"\"\n",
    "    \n",
    "    return {\n",
    "        \"messages\":[\n",
    "            llm_with_tools.invoke([\n",
    "                {\"role\":\"system\", \"content\":supervisor_prompt},\n",
    "                {\"role\":\"user\", \"content\":state[\"query\"]}\n",
    "            ]\n",
    "            + state[\"messages\"]\n",
    "            )\n",
    "        ]\n",
    "    }\n",
    "\n",
    "\n",
    "    "
   ]
  },
  {
   "cell_type": "code",
   "execution_count": 171,
   "id": "d11be4b1",
   "metadata": {},
   "outputs": [],
   "source": [
    "def tool_handler(state: State):\n",
    "    \"\"\"Performs the tool call.\"\"\"\n",
    "\n",
    "    # List for tool messages\n",
    "    result = []\n",
    "    \n",
    "    # Iterate through tool calls\n",
    "    for tool_call in state[\"messages\"][-1].tool_calls:\n",
    "        # Get the tool\n",
    "        tool = tools_by_name[tool_call[\"name\"]]\n",
    "        # Run it\n",
    "        observation = tool.invoke(tool_call[\"args\"])\n",
    "        # Create a tool message\n",
    "        result.append({\"role\": \"tool\", \"content\" : observation, \"tool_call_id\": tool_call[\"id\"]})\n",
    "    \n",
    "    # Add it to our messages\n",
    "    return {\"messages\": result}"
   ]
  },
  {
   "cell_type": "code",
   "execution_count": 172,
   "id": "48679dd2",
   "metadata": {},
   "outputs": [],
   "source": [
    "def should_continue(state: State) -> Literal[\"tool_handler\", \"__end__\"]:\n",
    "    \"\"\"Route to tool handler, or end if Done tool called.\"\"\"\n",
    "    \n",
    "    # Get the last message\n",
    "    messages = state[\"messages\"]\n",
    "    last_message = messages[-1]\n",
    "    \n",
    "    # Check if it's a Done tool call\n",
    "    if len(last_message.tool_calls) > 0:\n",
    "        return \"tool_handler\"\n",
    "    else:\n",
    "        return END"
   ]
  },
  {
   "cell_type": "code",
   "execution_count": 173,
   "id": "c703b737",
   "metadata": {},
   "outputs": [
    {
     "data": {
      "image/png": "[encoded data removed]",
      "text/plain": [
       "<IPython.core.display.Image object>"
      ]
     },
     "metadata": {},
     "output_type": "display_data"
    }
   ],
   "source": [
    "\n",
    "\n",
    "overall_flow = StateGraph(State)\n",
    "\n",
    "# Add nodes\n",
    "overall_flow.add_node(\"supervisor_node\", supervisor_node)\n",
    "overall_flow.add_node(\"tool_handler\", tool_handler)\n",
    "\n",
    "# Add edges\n",
    "overall_flow.add_edge(START, \"supervisor_node\")\n",
    "overall_flow.add_conditional_edges(\n",
    "    \"supervisor_node\",\n",
    "    should_continue,\n",
    "    {\n",
    "        \"tool_handler\": \"tool_handler\",\n",
    "        END: END,\n",
    "    },\n",
    ")\n",
    "overall_flow.add_edge(\"tool_handler\", \"supervisor_node\")\n",
    "\n",
    "# Compile the agent\n",
    "agent = overall_flow.compile()\n",
    "\n",
    "display(Image(agent.get_graph(xray=True).draw_mermaid_png()))\n"
   ]
  },
  {
   "cell_type": "code",
   "execution_count": 174,
   "id": "06c4183f",
   "metadata": {},
   "outputs": [
    {
     "name": "stdout",
     "output_type": "stream",
     "text": [
      "plans=[PlanSchema(title='Define the details and objectives of the new task', completed=False, node='task_agent')] result\n",
      "plans=[PlanSchema(title='Identify the task to be updated', completed=False, node='task_agent'), PlanSchema(title='Gather the new information or changes for the task', completed=False, node='task_agent'), PlanSchema(title='Edit the task details with the updated information', completed=False, node='task_agent'), PlanSchema(title='Save and confirm the changes to the task', completed=False, node='task_agent')] result\n",
      "plans=[PlanSchema(title='Identify the task to be deleted', completed=False, node='task_agent'), PlanSchema(title='Confirm deletion with the user (if necessary)', completed=False, node='task_agent'), PlanSchema(title='Remove the specified task from the task list or database', completed=False, node='task_agent'), PlanSchema(title='Update the task list to reflect the deletion', completed=False, node='task_agent')] result\n",
      "==================================\u001b[1m Ai Message \u001b[0m==================================\n",
      "Tool Calls:\n",
      "  plan_generator (call_SPOerqnGoJUwBut8dXhXYoId)\n",
      " Call ID: call_SPOerqnGoJUwBut8dXhXYoId\n",
      "  Args:\n",
      "    query: Create a new task\n",
      "  plan_generator (call_1S86nhoDOS4z0yWoYnHqQNbl)\n",
      " Call ID: call_1S86nhoDOS4z0yWoYnHqQNbl\n",
      "  Args:\n",
      "    query: Update an existing task\n",
      "  plan_generator (call_dH2sWgzut0RgtVoBy1I2aX7j)\n",
      " Call ID: call_dH2sWgzut0RgtVoBy1I2aX7j\n",
      "  Args:\n",
      "    query: Delete a task\n",
      "=================================\u001b[1m Tool Message \u001b[0m=================================\n",
      "\n",
      "{'plans': [PlanSchema(title='Define the details and objectives of the new task', completed=False, node='task_agent')]}\n",
      "=================================\u001b[1m Tool Message \u001b[0m=================================\n",
      "\n",
      "{'plans': [PlanSchema(title='Identify the task to be updated', completed=False, node='task_agent'), PlanSchema(title='Gather the new information or changes for the task', completed=False, node='task_agent'), PlanSchema(title='Edit the task details with the updated information', completed=False, node='task_agent'), PlanSchema(title='Save and confirm the changes to the task', completed=False, node='task_agent')]}\n",
      "=================================\u001b[1m Tool Message \u001b[0m=================================\n",
      "\n",
      "{'plans': [PlanSchema(title='Identify the task to be deleted', completed=False, node='task_agent'), PlanSchema(title='Confirm deletion with the user (if necessary)', completed=False, node='task_agent'), PlanSchema(title='Remove the specified task from the task list or database', completed=False, node='task_agent'), PlanSchema(title='Update the task list to reflect the deletion', completed=False, node='task_agent')]}\n",
      "==================================\u001b[1m Ai Message \u001b[0m==================================\n",
      "\n",
      "Here are structured plans for creating, updating, and deleting a task:\n",
      "\n",
      "1. Create a Task\n",
      "   - Define the details and objectives of the new task.\n",
      "\n",
      "2. Update a Task\n",
      "   - Identify the task to be updated.\n",
      "   - Gather the new information or changes for the task.\n",
      "   - Edit the task details with the updated information.\n",
      "   - Save and confirm the changes to the task.\n",
      "\n",
      "3. Delete a Task\n",
      "   - Identify the task to be deleted.\n",
      "   - Confirm deletion with the user (if necessary).\n",
      "   - Remove the specified task from the task list or database.\n",
      "   - Update the task list to reflect the deletion.\n",
      "\n",
      "Let me know if you want to proceed with any of these plans or need further customization.\n"
     ]
    }
   ],
   "source": [
    "response = agent.invoke({\"query\":\"create a task , update a task and delete a task\"})\n",
    "\n",
    "for m in response[\"messages\"]:\n",
    "    m.pretty_print()"
   ]
  }
 ],
 "metadata": {
  "kernelspec": {
   "display_name": "venv",
   "language": "python",
   "name": "python3"
  },
  "language_info": {
   "codemirror_mode": {
    "name": "ipython",
    "version": 3
   },
   "file_extension": ".py",
   "mimetype": "text/x-python",
   "name": "python",
   "nbconvert_exporter": "python",
   "pygments_lexer": "ipython3",
   "version": "3.12.3"
  }
 },
 "nbformat": 4,
 "nbformat_minor": 5
}
